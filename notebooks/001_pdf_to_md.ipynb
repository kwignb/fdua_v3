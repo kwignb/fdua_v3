{
 "cells": [
  {
   "cell_type": "code",
   "execution_count": null,
   "metadata": {},
   "outputs": [],
   "source": [
    "import os\n",
    "import sys\n",
    "import urllib3\n",
    "from glob import glob\n",
    "from tqdm.auto import tqdm\n",
    "from dotenv import load_dotenv\n",
    "\n",
    "from openai import AzureOpenAI\n",
    "\n",
    "urllib3.disable_warnings()\n",
    "\n",
    "sys.path.append('..')\n",
    "from src.dataset.preprocess import split_and_save_pdf, pdf_to_blocks_and_png  # noqa: E402\n",
    "from src.tools.text_extract import analyze_image_with_blocks, extract_company_name  # noqa: E402\n",
    "\n",
    "load_dotenv()"
   ]
  },
  {
   "cell_type": "markdown",
   "metadata": {},
   "source": [
    "## PDFのパスを読み込む"
   ]
  },
  {
   "cell_type": "code",
   "execution_count": null,
   "metadata": {},
   "outputs": [],
   "source": [
    "val_pdfs = sorted(glob(\"../signate_data/validation/documents/*.pdf\"))\n",
    "test_pdfs = sorted(glob('../signate_data/documents/*.pdf'))"
   ]
  },
  {
   "cell_type": "markdown",
   "metadata": {},
   "source": [
    "## PDFを分割して再構成\n",
    "- 中心で分割できそうなスライドは分割し、それぞれを1枚のスライドとして再構成する\n",
    "- 処理内容については`src/dataset/preprocess.py`を参照"
   ]
  },
  {
   "cell_type": "code",
   "execution_count": null,
   "metadata": {},
   "outputs": [],
   "source": [
    "for pdf in tqdm(val_pdfs):\n",
    "    pdf_name = pdf.split('/')[-1].split('.')[0].zfill(3)\n",
    "\n",
    "    output_dir = f\"../data/documents/{pdf_name}_split\"\n",
    "    if not os.path.exists(output_dir):\n",
    "        os.makedirs(output_dir)\n",
    "\n",
    "    split_and_save_pdf(pdf, os.path.join(output_dir, f\"{pdf_name}_split.pdf\"))\n",
    "\n",
    "for pdf in tqdm(test_pdfs):\n",
    "    pdf_name = pdf.split('/')[-1].split('.')[0].zfill(3)\n",
    "\n",
    "    output_dir = f\"../data/test/documents/{pdf_name}_split\"\n",
    "    if not os.path.exists(output_dir):\n",
    "        os.makedirs(output_dir)\n",
    "\n",
    "    split_and_save_pdf(pdf, os.path.join(output_dir, f\"{pdf_name}_split.pdf\"))"
   ]
  },
  {
   "cell_type": "markdown",
   "metadata": {},
   "source": [
    "## 再構成したPDFを読み込む"
   ]
  },
  {
   "cell_type": "code",
   "execution_count": null,
   "metadata": {},
   "outputs": [],
   "source": [
    "val_split_pdfs = sorted(glob(\"../data/documents/*_split/*.pdf\"))\n",
    "test_split_pdfs = sorted(glob(\"../data/test/documents/*_split/*.pdf\"))"
   ]
  },
  {
   "cell_type": "markdown",
   "metadata": {},
   "source": [
    "## Azure OpenAI Serviceの設定"
   ]
  },
  {
   "cell_type": "code",
   "execution_count": null,
   "metadata": {},
   "outputs": [],
   "source": [
    "client = AzureOpenAI(\n",
    "        api_key=os.getenv(\"AZURE_OPENAI_API_KEY\"),\n",
    "        azure_endpoint=os.getenv(\"AZURE_OPENAI_API_ENDPOINT\"),\n",
    "        api_version=os.getenv(\"API_VERSION\"),\n",
    "    )"
   ]
  },
  {
   "cell_type": "markdown",
   "metadata": {},
   "source": [
    "## テキスト抽出\n",
    "- `src/dataset/preprocess.py` の `pdf_to_block_and_png` により、構造化されたテキスト情報とスライドのPNG画像を得る\n",
    "- 上記の両データを入力とし、`gpt-4o-mini` を用いてPDFよりテキスト抽出\n",
    "- プロンプトの詳細などについては `src/tools/text_extract.py` を参照"
   ]
  },
  {
   "cell_type": "code",
   "execution_count": null,
   "metadata": {},
   "outputs": [],
   "source": [
    "for spdf in tqdm(val_split_pdfs, desc=\"PDF Processing\"):\n",
    "    pdf_name = spdf.split('/')[-1].split('.')[0].split('_')[0].zfill(3)\n",
    "    output_dir = f\"../data/documents/{pdf_name}_split\"\n",
    "    page_blocks, image_paths = pdf_to_blocks_and_png(spdf, output_dir)\n",
    "\n",
    "    markdown_text = \"\"\n",
    "    lines = []\n",
    "    for i, (page_block, image_path) in enumerate(zip(page_blocks, image_paths)):\n",
    "        extracted_text = analyze_image_with_blocks(\n",
    "            client, image_path, page_block, os.getenv(\"MODEL\")\n",
    "        )\n",
    "        line = f\"## P.{i+1}\\n\\n{extracted_text}\\n\\n\"\n",
    "        markdown_text += line\n",
    "        lines.append(line)\n",
    "\n",
    "    company_name = extract_company_name(lines[0])\n",
    "\n",
    "    markdown_output_dir = \"../data/documents/markdowns\"\n",
    "    if not os.path.exists(markdown_output_dir):\n",
    "        os.makedirs(markdown_output_dir)\n",
    "    with open(os.path.join(markdown_output_dir, f\"{company_name}.md\"), 'w', encoding='utf-8') as f:\n",
    "        f.write(markdown_text)\n",
    "\n",
    "for spdf in tqdm(test_split_pdfs, desc=\"PDF Processing\"):\n",
    "    pdf_name = spdf.split('/')[-1].split('.')[0].split('_')[0].zfill(3)\n",
    "    output_dir = f\"../data/documents/test/{pdf_name}_split\"\n",
    "    page_blocks, image_paths = pdf_to_blocks_and_png(spdf, output_dir)\n",
    "\n",
    "    markdown_text = \"\"\n",
    "    lines = []\n",
    "    for i, (page_block, image_path) in enumerate(zip(page_blocks, image_paths)):\n",
    "        extracted_text = analyze_image_with_blocks(\n",
    "            client, image_path, page_block, os.getenv(\"MODEL\")\n",
    "        )\n",
    "        line = f\"## P.{i+1}\\n\\n{extracted_text}\\n\\n\"\n",
    "        markdown_text += line\n",
    "        lines.append(line)\n",
    "\n",
    "    company_name = extract_company_name(lines[0])\n",
    "\n",
    "    markdown_output_dir = \"../data/documents/test/markdowns\"\n",
    "    if not os.path.exists(markdown_output_dir):\n",
    "        os.makedirs(markdown_output_dir)\n",
    "    with open(os.path.join(markdown_output_dir, f\"{company_name}.md\"), 'w', encoding='utf-8') as f:\n",
    "        f.write(markdown_text)"
   ]
  },
  {
   "cell_type": "code",
   "execution_count": null,
   "metadata": {},
   "outputs": [],
   "source": []
  }
 ],
 "metadata": {
  "kernelspec": {
   "display_name": ".venv",
   "language": "python",
   "name": "python3"
  },
  "language_info": {
   "codemirror_mode": {
    "name": "ipython",
    "version": 3
   },
   "file_extension": ".py",
   "mimetype": "text/x-python",
   "name": "python",
   "nbconvert_exporter": "python",
   "pygments_lexer": "ipython3",
   "version": "3.12.8"
  }
 },
 "nbformat": 4,
 "nbformat_minor": 2
}
